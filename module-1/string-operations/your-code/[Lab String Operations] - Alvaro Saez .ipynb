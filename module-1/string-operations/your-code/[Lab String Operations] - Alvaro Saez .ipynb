{
 "cells": [
  {
   "cell_type": "code",
   "execution_count": 1,
   "id": "7de70195",
   "metadata": {},
   "outputs": [],
   "source": [
    "import re #import the library for regular expressions"
   ]
  },
  {
   "cell_type": "markdown",
   "id": "0f28173b",
   "metadata": {},
   "source": [
    "# Challenge 1 - Combining Strings\n",
    "\n",
    "Combining strings is an important skill to acquire. There are multiple ways of combining strings in Python, as well as combining strings with variables. We will explore this in the first challenge. In the cell below, combine the strings in the list and add spaces between the strings (do not add a space after the last string). Insert a period after the last string."
   ]
  },
  {
   "cell_type": "code",
   "execution_count": 2,
   "id": "41978f46",
   "metadata": {},
   "outputs": [],
   "source": [
    "str_list = ['Durante', 'un', 'tiempo', 'no', 'estuvo', 'segura', 'de', 'si', 'su', 'marido', 'era', 'su', 'marido']"
   ]
  },
  {
   "cell_type": "code",
   "execution_count": 6,
   "id": "bbbaa74d",
   "metadata": {},
   "outputs": [
    {
     "data": {
      "text/plain": [
       "'Durante un tiempo no estuvo segura de si su marido era su marido, en concreto durante 4 años'"
      ]
     },
     "execution_count": 6,
     "metadata": {},
     "output_type": "execute_result"
    }
   ],
   "source": [
    "# Your code here:\n",
    "\" \".join(str_list) + \", en concreto durante 4 años\""
   ]
  },
  {
   "cell_type": "markdown",
   "id": "be5a2988",
   "metadata": {},
   "source": [
    "In the cell below, use the list of strings to create a grocery list. Start the list with the string `Grocery list: ` and include a comma and a space between each item except for the last one. Include a period at the end. Only include foods in the list that start with the letter 'b' and ensure all foods are lower case."
   ]
  },
  {
   "cell_type": "code",
   "execution_count": 8,
   "id": "d424fa67",
   "metadata": {},
   "outputs": [],
   "source": [
    "food_list = ['Bananas', 'Chocolate', 'bread', 'diapers', 'Ice Cream', 'Brownie Mix', 'broccoli']"
   ]
  },
  {
   "cell_type": "code",
   "execution_count": 28,
   "id": "fdda6ba7",
   "metadata": {},
   "outputs": [
    {
     "name": "stdout",
     "output_type": "stream",
     "text": [
      "bananas, chocolate, bread, diapers, ice cream, brownie mix, broccoli\n",
      "['bananas', 'bread', 'brownie', 'broccoli']\n",
      "Grocery list: bananas, bread, brownie, broccoli. For one week\n"
     ]
    }
   ],
   "source": [
    "# Your code here:\n",
    "food_list_str = \", \".join(food_list).lower() #we pass it to a string and to lower case\n",
    "print(food_list_str)\n",
    "\n",
    "food_list_str_with_b = re.findall(\"b[a-z]*\",food_list_str) #we obtain only those values with start with s\n",
    "print(food_list_str_with_b)\n",
    "\n",
    "final_foof_list: \"Grocery list: \" + \", \".join(food_list_str_with_b) + \". For one week\" \n",
    "print(food_list_str_final)"
   ]
  },
  {
   "cell_type": "markdown",
   "id": "2c30d32b",
   "metadata": {},
   "source": [
    "In the cell below, write a function that computes the area of a circle using its radius. Compute the area of the circle and insert the radius and the area between the two strings. Make sure to include spaces between the variable and the strings.\n",
    "\n",
    "Note: You can use the techniques we have learned so far or use f-strings. F-strings allow us to embed code inside strings. You can read more about f-strings here."
   ]
  },
  {
   "cell_type": "code",
   "execution_count": 101,
   "id": "9a6bbcc6",
   "metadata": {},
   "outputs": [
    {
     "name": "stdout",
     "output_type": "stream",
     "text": [
      "The area of the circle with radius:4.5 is:63.61725123519331\n"
     ]
    }
   ],
   "source": [
    "import math\n",
    "\n",
    "string1 = \"The area of the circle with radius:\"\n",
    "string2  = \"is:\"\n",
    "radius = 4.5\n",
    "area = math.pi*radius*radius\n",
    "#final_result= string1 + str(radius) + \" \" + string2 + str(area)\n",
    "final_result= f\"{string1}\" + str(radius) +  f\" {string2}\" + str(area)\n",
    "print(final_result)\n",
    "\n",
    "def area(x, pi = math.pi):\n",
    "    \"\"\"\n",
    "    This function takes a radius and returns the area of a circle. \n",
    "    We also pass a default value for pi.\n",
    "    \n",
    "    Input: Float (and default value for pi)\n",
    "    Output: Float\n",
    "    \n",
    "    Sample input: 5.0\n",
    "    Sample Output: 78.53981633\n",
    "    \"\"\"\n",
    "    \n",
    "    # Your code here:\n",
    "    \n",
    "    \n",
    "# Your output string here:"
   ]
  },
  {
   "cell_type": "code",
   "execution_count": null,
   "id": "f243f4d5",
   "metadata": {},
   "outputs": [],
   "source": []
  },
  {
   "cell_type": "code",
   "execution_count": null,
   "id": "a907d4df",
   "metadata": {},
   "outputs": [],
   "source": []
  },
  {
   "cell_type": "code",
   "execution_count": null,
   "id": "a4436ead",
   "metadata": {},
   "outputs": [],
   "source": []
  }
 ],
 "metadata": {
  "kernelspec": {
   "display_name": "Python [conda env:ironhack]",
   "language": "python",
   "name": "conda-env-ironhack-py"
  },
  "language_info": {
   "codemirror_mode": {
    "name": "ipython",
    "version": 3
   },
   "file_extension": ".py",
   "mimetype": "text/x-python",
   "name": "python",
   "nbconvert_exporter": "python",
   "pygments_lexer": "ipython3",
   "version": "3.7.11"
  }
 },
 "nbformat": 4,
 "nbformat_minor": 5
}
